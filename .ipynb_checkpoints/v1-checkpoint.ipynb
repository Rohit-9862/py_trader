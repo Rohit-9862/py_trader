{
 "cells": [
  {
   "cell_type": "code",
   "execution_count": 4,
   "id": "bbf09099-7063-426a-9e4f-2d2712d9bde1",
   "metadata": {},
   "outputs": [
    {
     "name": "stderr",
     "output_type": "stream",
     "text": [
      "[*********************100%***********************]  1 of 1 completed"
     ]
    },
    {
     "name": "stdout",
     "output_type": "stream",
     "text": [
      "Processing...\n"
     ]
    },
    {
     "name": "stderr",
     "output_type": "stream",
     "text": [
      "\n",
      "[*********************100%***********************]  1 of 1 completed\n",
      "[*********************100%***********************]  1 of 1 completed\n",
      "[*********************100%***********************]  1 of 1 completed\n",
      "[*********************100%***********************]  1 of 1 completed\n",
      "[*********************100%***********************]  1 of 1 completed\n",
      "[*********************100%***********************]  1 of 1 completed\n",
      "[*********************100%***********************]  1 of 1 completed\n",
      "[*********************100%***********************]  1 of 1 completed\n",
      "[*********************100%***********************]  1 of 1 completed\n",
      "[*********************100%***********************]  1 of 1 completed\n",
      "[*********************100%***********************]  1 of 1 completed\n",
      "[*********************100%***********************]  1 of 1 completed\n",
      "[*********************100%***********************]  1 of 1 completed\n",
      "[*********************100%***********************]  1 of 1 completed"
     ]
    },
    {
     "name": "stdout",
     "output_type": "stream",
     "text": [
      "\n",
      "Symbols predicted to increase by 3% in the next hour:\n",
      "AUCTION, ARKM\n"
     ]
    },
    {
     "name": "stderr",
     "output_type": "stream",
     "text": [
      "\n"
     ]
    }
   ],
   "source": [
    "import pandas as pd\n",
    "import numpy as np\n",
    "import ta  # Technical analysis library\n",
    "import yfinance as yf\n",
    "from xgboost import XGBClassifier\n",
    "from sklearn.metrics import accuracy_score\n",
    "import pytz  # For timezone conversion\n",
    "import warnings\n",
    "\n",
    "warnings.filterwarnings('ignore')\n",
    "\n",
    "# Define symbols and training data path\n",
    "symbols = ['AUCTION', 'RAY', 'T', 'FLOW', 'ARKM', 'LAYER', 'POLYX', 'ETH', 'BTT', \n",
    "           '1INCH', 'RED', 'SOL', 'XRP', 'BTC', 'TRX']\n",
    "train_path = \"data/1-year-data/\"  # Training data path\n",
    "\n",
    "\n",
    "# Function to calculate technical indicators\n",
    "def add_technical_indicators(df):\n",
    "    df = df.copy()\n",
    "\n",
    "    # Moving Averages\n",
    "    df[\"SMA_10\"] = ta.trend.sma_indicator(df[\"Close\"], window=10)\n",
    "    df[\"EMA_10\"] = ta.trend.ema_indicator(df[\"Close\"], window=10)\n",
    "\n",
    "    # Volatility Indicators\n",
    "    df[\"ATR\"] = ta.volatility.average_true_range(df[\"High\"], df[\"Low\"], df[\"Close\"], window=14)\n",
    "    df[\"Bollinger_Upper\"] = ta.volatility.bollinger_hband(df[\"Close\"], window=20)\n",
    "    df[\"Bollinger_Middle\"] = ta.volatility.bollinger_mavg(df[\"Close\"], window=20)\n",
    "    df[\"Bollinger_Lower\"] = ta.volatility.bollinger_lband(df[\"Close\"], window=20)\n",
    "\n",
    "    # Momentum Indicators\n",
    "    df[\"RSI\"] = ta.momentum.rsi(df[\"Close\"], window=14)\n",
    "    df[\"MACD\"] = ta.trend.macd(df[\"Close\"])\n",
    "\n",
    "    # Volume Indicator\n",
    "    df[\"OBV\"] = ta.volume.on_balance_volume(df[\"Close\"], df[\"Volume\"])\n",
    "    \n",
    "    # Define target (price increase by 3% in the next hour)\n",
    "    df['Target'] = np.where(df[\"Close\"].shift(-1) >= df[\"Close\"] * 1.02, 1, 0)\n",
    "\n",
    "    # Drop NaN values generated from indicators\n",
    "    df = df.dropna()\n",
    "\n",
    "    return df\n",
    "\n",
    "\n",
    "# Set Indian Standard Time (IST) timezone\n",
    "ist = pytz.timezone(\"Asia/Kolkata\")\n",
    "\n",
    "# Store results\n",
    "predicted_symbols = []\n",
    "\n",
    "print(\"Processing...\")\n",
    "\n",
    "for symbol in symbols:\n",
    "    try:\n",
    "        # Read training data\n",
    "        train_df = pd.read_csv(train_path + f\"{symbol}-USD.csv\")\n",
    "\n",
    "        # Download test data from Yahoo Finance\n",
    "        test_df = yf.download(f\"{symbol}-USD\", interval=\"1h\", period=\"5d\")\n",
    "\n",
    "        # Check if we have enough data\n",
    "        if len(test_df) < 20:\n",
    "            print(f\"Skipping {symbol} - Not enough data\")\n",
    "            continue\n",
    "\n",
    "        # Convert timezone to IST\n",
    "        test_df.index = test_df.index.tz_convert(ist)\n",
    "\n",
    "        # Reset index and rename columns\n",
    "        test_df.columns = [i[0] for i in test_df.columns]\n",
    "        # Apply technical indicators\n",
    "        train_df = add_technical_indicators(train_df)\n",
    "        test_df = add_technical_indicators(test_df)\n",
    "\n",
    "        # Remove last row from training data as it doesn't have a valid target\n",
    "        train_df = train_df.iloc[:-1]\n",
    "\n",
    "        # Prepare features and target\n",
    "        X_train = train_df.drop(columns=[\"Target\", \"Datetime\"])\n",
    "        y_train = train_df[\"Target\"]\n",
    "\n",
    "        X_test = test_df.drop(columns=[\"Target\"])\n",
    "        y_test = test_df[\"Target\"]\n",
    "\n",
    "        # Train XGBoost Classifier\n",
    "        model = XGBClassifier(use_label_encoder=False, eval_metric='logloss')\n",
    "        model.fit(X_train, y_train)\n",
    "\n",
    "        # Make predictions for the next hour\n",
    "        y_pred = model.predict(X_test)\n",
    "\n",
    "        # If any prediction is 1 (indicating a price increase), store the symbol\n",
    "        if 1 in y_pred:\n",
    "            predicted_symbols.append(symbol)\n",
    "\n",
    "    except Exception as e:\n",
    "        print(f\"Error processing {symbol}: {e}\")\n",
    "\n",
    "# to Print results\n",
    "if predicted_symbols:\n",
    "    print(\"\\nSymbols predicted to increase by 3% in the next hour:\")\n",
    "    print(\", \".join(predicted_symbols))\n",
    "else:\n",
    "    print(\"\\nNo symbols predicted to increase by 3% in the next hour.\")"
   ]
  },
  {
   "cell_type": "code",
   "execution_count": 2,
   "id": "5e9dd4d5-c2e7-433e-9aba-af06527480d7",
   "metadata": {},
   "outputs": [
    {
     "name": "stdout",
     "output_type": "stream",
     "text": [
      "Collecting cctx\n",
      "  Downloading cctx-1.0.0-py2.py3-none-any.whl.metadata (3.4 kB)\n",
      "Requirement already satisfied: requests in /home/codespace/.local/lib/python3.12/site-packages (from cctx) (2.32.3)\n",
      "Requirement already satisfied: setuptools in /home/codespace/.local/lib/python3.12/site-packages (from cctx) (75.6.0)\n",
      "Requirement already satisfied: charset-normalizer<4,>=2 in /home/codespace/.local/lib/python3.12/site-packages (from requests->cctx) (3.4.0)\n",
      "Requirement already satisfied: idna<4,>=2.5 in /home/codespace/.local/lib/python3.12/site-packages (from requests->cctx) (3.10)\n",
      "Requirement already satisfied: urllib3<3,>=1.21.1 in /home/codespace/.local/lib/python3.12/site-packages (from requests->cctx) (2.2.3)\n",
      "Requirement already satisfied: certifi>=2017.4.17 in /home/codespace/.local/lib/python3.12/site-packages (from requests->cctx) (2024.8.30)\n",
      "Downloading cctx-1.0.0-py2.py3-none-any.whl (5.7 kB)\n",
      "Installing collected packages: cctx\n",
      "Successfully installed cctx-1.0.0\n"
     ]
    }
   ],
   "source": [
    "!pip install cctx"
   ]
  },
  {
   "cell_type": "code",
   "execution_count": null,
   "id": "2769a2e7-6a9b-444f-b83b-308eff211dc1",
   "metadata": {},
   "outputs": [],
   "source": []
  }
 ],
 "metadata": {
  "kernelspec": {
   "display_name": "Python 3 (ipykernel)",
   "language": "python",
   "name": "python3"
  },
  "language_info": {
   "codemirror_mode": {
    "name": "ipython",
    "version": 3
   },
   "file_extension": ".py",
   "mimetype": "text/x-python",
   "name": "python",
   "nbconvert_exporter": "python",
   "pygments_lexer": "ipython3",
   "version": "3.12.1"
  }
 },
 "nbformat": 4,
 "nbformat_minor": 5
}
