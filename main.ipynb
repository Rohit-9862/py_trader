{
 "cells": [
  {
   "cell_type": "code",
   "execution_count": 3,
   "id": "4eac818d-f417-4699-9b2f-527693e920eb",
   "metadata": {},
   "outputs": [
    {
     "name": "stdout",
     "output_type": "stream",
     "text": [
      "Working to token AUCTION\n"
     ]
    },
    {
     "name": "stderr",
     "output_type": "stream",
     "text": [
      "/home/codespace/.python/current/lib/python3.12/site-packages/xgboost/training.py:183: UserWarning: [06:46:43] WARNING: /workspace/src/learner.cc:738: \n",
      "Parameters: { \"use_label_encoder\" } are not used.\n",
      "\n",
      "  bst.update(dtrain, iteration=i, fobj=obj)\n"
     ]
    },
    {
     "name": "stdout",
     "output_type": "stream",
     "text": [
      "Max Error: 1\n",
      "Min Error: 0\n",
      "Average Error: 0.09828009828009827\n",
      "Accuracy: 0.9017199017199017\n",
      "Working to token RAY\n"
     ]
    },
    {
     "name": "stderr",
     "output_type": "stream",
     "text": [
      "/home/codespace/.python/current/lib/python3.12/site-packages/xgboost/training.py:183: UserWarning: [06:46:43] WARNING: /workspace/src/learner.cc:738: \n",
      "Parameters: { \"use_label_encoder\" } are not used.\n",
      "\n",
      "  bst.update(dtrain, iteration=i, fobj=obj)\n"
     ]
    },
    {
     "name": "stdout",
     "output_type": "stream",
     "text": [
      "Max Error: 1\n",
      "Min Error: 0\n",
      "Average Error: 0.03931203931203931\n",
      "Accuracy: 0.9606879606879607\n",
      "Working to token T\n"
     ]
    },
    {
     "name": "stderr",
     "output_type": "stream",
     "text": [
      "/home/codespace/.python/current/lib/python3.12/site-packages/xgboost/training.py:183: UserWarning: [06:46:43] WARNING: /workspace/src/learner.cc:738: \n",
      "Parameters: { \"use_label_encoder\" } are not used.\n",
      "\n",
      "  bst.update(dtrain, iteration=i, fobj=obj)\n"
     ]
    },
    {
     "name": "stdout",
     "output_type": "stream",
     "text": [
      "Max Error: 1\n",
      "Min Error: 0\n",
      "Average Error: 0.056511056511056514\n",
      "Accuracy: 0.9434889434889435\n",
      "Working to token FLOW\n"
     ]
    },
    {
     "name": "stderr",
     "output_type": "stream",
     "text": [
      "/home/codespace/.python/current/lib/python3.12/site-packages/xgboost/training.py:183: UserWarning: [06:46:44] WARNING: /workspace/src/learner.cc:738: \n",
      "Parameters: { \"use_label_encoder\" } are not used.\n",
      "\n",
      "  bst.update(dtrain, iteration=i, fobj=obj)\n"
     ]
    },
    {
     "name": "stdout",
     "output_type": "stream",
     "text": [
      "Max Error: 1\n",
      "Min Error: 0\n",
      "Average Error: 0.007371007371007371\n",
      "Accuracy: 0.9926289926289926\n",
      "Working to token ARKM\n"
     ]
    },
    {
     "name": "stderr",
     "output_type": "stream",
     "text": [
      "/home/codespace/.python/current/lib/python3.12/site-packages/xgboost/training.py:183: UserWarning: [06:46:44] WARNING: /workspace/src/learner.cc:738: \n",
      "Parameters: { \"use_label_encoder\" } are not used.\n",
      "\n",
      "  bst.update(dtrain, iteration=i, fobj=obj)\n"
     ]
    },
    {
     "name": "stdout",
     "output_type": "stream",
     "text": [
      "Max Error: 1\n",
      "Min Error: 0\n",
      "Average Error: 0.0343980343980344\n",
      "Accuracy: 0.9656019656019657\n",
      "Working to token LAYER\n"
     ]
    },
    {
     "name": "stderr",
     "output_type": "stream",
     "text": [
      "/home/codespace/.python/current/lib/python3.12/site-packages/xgboost/training.py:183: UserWarning: [06:46:44] WARNING: /workspace/src/learner.cc:738: \n",
      "Parameters: { \"use_label_encoder\" } are not used.\n",
      "\n",
      "  bst.update(dtrain, iteration=i, fobj=obj)\n"
     ]
    },
    {
     "name": "stdout",
     "output_type": "stream",
     "text": [
      "Max Error: 1\n",
      "Min Error: 0\n",
      "Average Error: 0.0171990171990172\n",
      "Accuracy: 0.9828009828009828\n",
      "Working to token POLYX\n"
     ]
    },
    {
     "name": "stderr",
     "output_type": "stream",
     "text": [
      "/home/codespace/.python/current/lib/python3.12/site-packages/xgboost/training.py:183: UserWarning: [06:46:44] WARNING: /workspace/src/learner.cc:738: \n",
      "Parameters: { \"use_label_encoder\" } are not used.\n",
      "\n",
      "  bst.update(dtrain, iteration=i, fobj=obj)\n"
     ]
    },
    {
     "name": "stdout",
     "output_type": "stream",
     "text": [
      "Max Error: 1\n",
      "Min Error: 0\n",
      "Average Error: 0.009828009828009828\n",
      "Accuracy: 0.9901719901719902\n",
      "Working to token ETH\n",
      "Max Error: 1\n",
      "Min Error: 0\n",
      "Average Error: 0.004914004914004914\n",
      "Accuracy: 0.995085995085995\n",
      "Working to token BTT\n"
     ]
    },
    {
     "name": "stderr",
     "output_type": "stream",
     "text": [
      "/home/codespace/.python/current/lib/python3.12/site-packages/xgboost/training.py:183: UserWarning: [06:46:45] WARNING: /workspace/src/learner.cc:738: \n",
      "Parameters: { \"use_label_encoder\" } are not used.\n",
      "\n",
      "  bst.update(dtrain, iteration=i, fobj=obj)\n",
      "/home/codespace/.python/current/lib/python3.12/site-packages/xgboost/training.py:183: UserWarning: [06:46:45] WARNING: /workspace/src/learner.cc:738: \n",
      "Parameters: { \"use_label_encoder\" } are not used.\n",
      "\n",
      "  bst.update(dtrain, iteration=i, fobj=obj)\n"
     ]
    },
    {
     "name": "stdout",
     "output_type": "stream",
     "text": [
      "Max Error: 1\n",
      "Min Error: 0\n",
      "Average Error: 0.002457002457002457\n",
      "Accuracy: 0.9975429975429976\n",
      "Working to token 1INCH\n"
     ]
    },
    {
     "name": "stderr",
     "output_type": "stream",
     "text": [
      "/home/codespace/.python/current/lib/python3.12/site-packages/xgboost/training.py:183: UserWarning: [06:46:45] WARNING: /workspace/src/learner.cc:738: \n",
      "Parameters: { \"use_label_encoder\" } are not used.\n",
      "\n",
      "  bst.update(dtrain, iteration=i, fobj=obj)\n"
     ]
    },
    {
     "name": "stdout",
     "output_type": "stream",
     "text": [
      "Max Error: 1\n",
      "Min Error: 0\n",
      "Average Error: 0.007371007371007371\n",
      "Accuracy: 0.9926289926289926\n",
      "Working to token RED\n"
     ]
    },
    {
     "name": "stderr",
     "output_type": "stream",
     "text": [
      "/home/codespace/.python/current/lib/python3.12/site-packages/xgboost/training.py:183: UserWarning: [06:46:45] WARNING: /workspace/src/learner.cc:738: \n",
      "Parameters: { \"use_label_encoder\" } are not used.\n",
      "\n",
      "  bst.update(dtrain, iteration=i, fobj=obj)\n"
     ]
    },
    {
     "name": "stdout",
     "output_type": "stream",
     "text": [
      "Max Error: 0\n",
      "Min Error: 0\n",
      "Average Error: 0.0\n",
      "Accuracy: 1.0\n",
      "Working to token SOL\n"
     ]
    },
    {
     "name": "stderr",
     "output_type": "stream",
     "text": [
      "/home/codespace/.python/current/lib/python3.12/site-packages/xgboost/training.py:183: UserWarning: [06:46:46] WARNING: /workspace/src/learner.cc:738: \n",
      "Parameters: { \"use_label_encoder\" } are not used.\n",
      "\n",
      "  bst.update(dtrain, iteration=i, fobj=obj)\n"
     ]
    },
    {
     "name": "stdout",
     "output_type": "stream",
     "text": [
      "Max Error: 1\n",
      "Min Error: 0\n",
      "Average Error: 0.0171990171990172\n",
      "Accuracy: 0.9828009828009828\n",
      "Working to token XRP\n"
     ]
    },
    {
     "name": "stderr",
     "output_type": "stream",
     "text": [
      "/home/codespace/.python/current/lib/python3.12/site-packages/xgboost/training.py:183: UserWarning: [06:46:46] WARNING: /workspace/src/learner.cc:738: \n",
      "Parameters: { \"use_label_encoder\" } are not used.\n",
      "\n",
      "  bst.update(dtrain, iteration=i, fobj=obj)\n"
     ]
    },
    {
     "name": "stdout",
     "output_type": "stream",
     "text": [
      "Max Error: 1\n",
      "Min Error: 0\n",
      "Average Error: 0.029484029484029485\n",
      "Accuracy: 0.9705159705159705\n",
      "Working to token BTC\n",
      "Max Error: 1\n",
      "Min Error: 0\n",
      "Average Error: 0.002457002457002457\n",
      "Accuracy: 0.9975429975429976\n",
      "Working to token TRX\n"
     ]
    },
    {
     "name": "stderr",
     "output_type": "stream",
     "text": [
      "/home/codespace/.python/current/lib/python3.12/site-packages/xgboost/training.py:183: UserWarning: [06:46:46] WARNING: /workspace/src/learner.cc:738: \n",
      "Parameters: { \"use_label_encoder\" } are not used.\n",
      "\n",
      "  bst.update(dtrain, iteration=i, fobj=obj)\n",
      "/home/codespace/.python/current/lib/python3.12/site-packages/xgboost/training.py:183: UserWarning: [06:46:46] WARNING: /workspace/src/learner.cc:738: \n",
      "Parameters: { \"use_label_encoder\" } are not used.\n",
      "\n",
      "  bst.update(dtrain, iteration=i, fobj=obj)\n"
     ]
    },
    {
     "name": "stdout",
     "output_type": "stream",
     "text": [
      "Max Error: 0\n",
      "Min Error: 0\n",
      "Average Error: 0.0\n",
      "Accuracy: 1.0\n"
     ]
    }
   ],
   "source": [
    "import pandas as pd\n",
    "import numpy as np\n",
    "import ta  # panda-ta (technical analysis)\n",
    "from xgboost import XGBClassifier\n",
    "from sklearn.metrics import mean_absolute_error, mean_squared_error, accuracy_score\n",
    "\n",
    "\n",
    "symbols = ['AUCTION','RAY','T','FLOW','ARKM','LAYER','POLYX','ETH','BTT','1INCH','RED','SOL','XRP','BTC','TRX']\n",
    "# Define paths for training and testing data\n",
    "train_path = \"data/1-year-data/\"  # Add the actual path\n",
    "test_path = \"data/testing-data/\"   # Add the actual path\n",
    "\n",
    "\n",
    "# Function to calculate technical indicators\n",
    "def add_technical_indicators(df):\n",
    "    df = df.copy()\n",
    "\n",
    "    # Moving Averages\n",
    "    df[\"SMA_10\"] = ta.trend.sma_indicator(df[\"Close\"], window=10)\n",
    "    df[\"EMA_10\"] = ta.trend.ema_indicator(df[\"Close\"], window=10)\n",
    "\n",
    "    # Volatility Indicators\n",
    "    df[\"ATR\"] = ta.volatility.average_true_range(df[\"High\"], df[\"Low\"], df[\"Close\"], window=14)\n",
    "    df[\"Bollinger_Upper\"], df[\"Bollinger_Middle\"], df[\"Bollinger_Lower\"] = ta.volatility.bollinger_hband(df[\"Close\"], window=20), ta.volatility.bollinger_mavg(df[\"Close\"], window=20), ta.volatility.bollinger_lband(df[\"Close\"], window=20)\n",
    "\n",
    "    # Momentum Indicators\n",
    "    df[\"RSI\"] = ta.momentum.rsi(df[\"Close\"], window=14)\n",
    "    df[\"MACD\"] = ta.trend.macd(df[\"Close\"])\n",
    "\n",
    "    # Volume Indicator\n",
    "    df[\"OBV\"] = ta.volume.on_balance_volume(df[\"Close\"], df[\"Volume\"])\n",
    "    df['Target'] = np.where(df[\"Close\"].shift(-1)>=df[\"Close\"]*1.03,1,0)\n",
    "\n",
    "    # Drop NaN values generated from indicators\n",
    "    df = df.dropna()\n",
    "    \n",
    "    return df\n",
    "\n",
    "for i in symbols:\n",
    "    print(f\"Working to token {i}\")\n",
    "    # Read CSV files\n",
    "    train_df = pd.read_csv(train_path+f'{i}-USD.csv')\n",
    "    test_df = pd.read_csv(test_path+f\"{i}-USD.csv\")\n",
    "\n",
    "    # Add indicators to datasets\n",
    "    train_df = add_technical_indicators(train_df)\n",
    "    test_df = add_technical_indicators(test_df)\n",
    "\n",
    "    # Define target variable (Price increase by 3%)\n",
    "\n",
    "    # Remove the last row as it does not contain a valid target\n",
    "    train_df = train_df.iloc[:-1]\n",
    "\n",
    "    # Prepare features and target for training\n",
    "    X_train = train_df.drop(columns=[\"Target\", \"Datetime\"])  # Assuming 'Date' column exists\n",
    "    y_train = train_df[\"Target\"]\n",
    "\n",
    "    # Prepare features for testing\n",
    "    X_test = test_df.drop(columns=[\"Datetime\",\"Target\"])  # Assuming 'Date' column exists\n",
    "    y_test = test_df[\"Target\"]\n",
    "    # Train XGBoost Classifier\n",
    "    model = XGBClassifier(use_label_encoder=False, eval_metric='logloss')\n",
    "    model.fit(X_train, y_train)\n",
    "\n",
    "    # Make predictions\n",
    "    y_pred = model.predict(X_test)\n",
    "\n",
    "    # Calculate error metrics\n",
    "    error_max = np.max(np.abs(y_test - y_pred))\n",
    "    error_min = np.min(np.abs(y_test - y_pred))\n",
    "    error_avg = np.mean(np.abs(y_test - y_pred))\n",
    "\n",
    "    # Accuracy\n",
    "    accuracy = accuracy_score(y_test, y_pred)\n",
    "\n",
    "    # Print results\n",
    "    print(f\"Max Error: {error_max}\")\n",
    "    print(f\"Min Error: {error_min}\")\n",
    "    print(f\"Average Error: {error_avg}\")\n",
    "    print(f\"Accuracy: {accuracy}\")\n",
    "    "
   ]
  },
  {
   "cell_type": "code",
   "execution_count": null,
   "id": "0308c801-f6c2-4eae-85fc-6162673805ac",
   "metadata": {},
   "outputs": [],
   "source": []
  }
 ],
 "metadata": {
  "kernelspec": {
   "display_name": "Python 3 (ipykernel)",
   "language": "python",
   "name": "python3"
  },
  "language_info": {
   "codemirror_mode": {
    "name": "ipython",
    "version": 3
   },
   "file_extension": ".py",
   "mimetype": "text/x-python",
   "name": "python",
   "nbconvert_exporter": "python",
   "pygments_lexer": "ipython3",
   "version": "3.12.1"
  }
 },
 "nbformat": 4,
 "nbformat_minor": 5
}
